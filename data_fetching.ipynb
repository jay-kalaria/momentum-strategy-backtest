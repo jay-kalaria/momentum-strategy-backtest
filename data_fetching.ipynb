{
 "cells": [
  {
   "cell_type": "code",
   "execution_count": 4,
   "id": "0110a11c",
   "metadata": {},
   "outputs": [],
   "source": [
    "import yfinance as yf\n",
    "import pandas as pd\n",
    "from pandas import DataFrame"
   ]
  },
  {
   "cell_type": "code",
   "execution_count": 21,
   "id": "c4ac9b79",
   "metadata": {},
   "outputs": [],
   "source": [
    "tickers='ADBE,AMD,ABNB,GOOGL,GOOG,AMZN,AEP,AMGN,ADI,ANSS,AAPL,AMAT,APP,ARM,ASML,AZN,TEAM,ADSK,ADP,BKR,BIIB,BKNG,AVGO,CDNS,CDW,CHTR,CTAS,CSCO,CCEP,CTSH,CMCSA,CEG,CPRT,CSGP,COST,CRWD,CSX,DDOG,DXCM,FANG,DASH,EA,EXC,FAST,FTNT,GEHC,GILD,GFS,HON,IDXX,ILMN,INTC,INTU,ISRG,KDP,KLAC,KHC,LRCX,LIN,LULU,MAR,MRVL,MELI,META,MCHP,MU,MSFT,MRNA,MDLZ,MDB,MNST,NFLX,NVDA,NXPI,ORLY,ODFL,ON,PCAR,PANW,PAYX,PYPL,PDD,PEP,QCOM,REGN,ROP,ROST,SBUX,SMCI,SNPS,TTWO,TMUS,TSLA,TXN,TTD,VRSK,VRTX,WBD,WDAY,XEL,ZS'"
   ]
  },
  {
   "cell_type": "code",
   "execution_count": 23,
   "id": "8050a7c9",
   "metadata": {},
   "outputs": [
    {
     "name": "stdout",
     "output_type": "stream",
     "text": [
      "ADBE','AMD','ABNB','GOOGL','GOOG','AMZN','AEP','AMGN','ADI','ANSS','AAPL','AMAT','APP','ARM','ASML','AZN','TEAM','ADSK','ADP','BKR','BIIB','BKNG','AVGO','CDNS','CDW','CHTR','CTAS','CSCO','CCEP','CTSH','CMCSA','CEG','CPRT','CSGP','COST','CRWD','CSX','DDOG','DXCM','FANG','DASH','EA','EXC','FAST','FTNT','GEHC','GILD','GFS','HON','IDXX','ILMN','INTC','INTU','ISRG','KDP','KLAC','KHC','LRCX','LIN','LULU','MAR','MRVL','MELI','META','MCHP','MU','MSFT','MRNA','MDLZ','MDB','MNST','NFLX','NVDA','NXPI','ORLY','ODFL','ON','PCAR','PANW','PAYX','PYPL','PDD','PEP','QCOM','REGN','ROP','ROST','SBUX','SMCI','SNPS','TTWO','TMUS','TSLA','TXN','TTD','VRSK','VRTX','WBD','WDAY','XEL','ZS\n"
     ]
    }
   ],
   "source": [
    "new_tickers = tickers.replace(',',\"','\")\n",
    "print(new_tickers)"
   ]
  },
  {
   "cell_type": "code",
   "execution_count": 24,
   "id": "9b7d4d63",
   "metadata": {},
   "outputs": [],
   "source": [
    "tickers=['ADBE','AMD','ABNB','GOOGL','GOOG','AMZN','AEP','AMGN','ADI','ANSS','AAPL','AMAT','APP','ARM','ASML','AZN','TEAM','ADSK','ADP','BKR','BIIB','BKNG','AVGO','CDNS','CDW','CHTR','CTAS','CSCO','CCEP','CTSH','CMCSA','CEG','CPRT','CSGP','COST','CRWD','CSX','DDOG','DXCM','FANG','DASH','EA','EXC','FAST','FTNT','GEHC','GILD','GFS','HON','IDXX','ILMN','INTC','INTU','ISRG','KDP','KLAC','KHC','LRCX','LIN','LULU','MAR','MRVL','MELI','META','MCHP','MU','MSFT','MRNA','MDLZ','MDB','MNST','NFLX','NVDA','NXPI','ORLY','ODFL','ON','PCAR','PANW','PAYX','PYPL','PDD','PEP','QCOM','REGN','ROP','ROST','SBUX','SMCI','SNPS','TTWO','TMUS','TSLA','TXN','TTD','VRSK','VRTX','WBD','WDAY','XEL','ZS']"
   ]
  },
  {
   "cell_type": "code",
   "execution_count": 53,
   "id": "3910dd59",
   "metadata": {},
   "outputs": [
    {
     "name": "stderr",
     "output_type": "stream",
     "text": [
      "[*********************100%***********************]  101 of 101 completed\n"
     ]
    }
   ],
   "source": [
    "raw_data = yf.download(tickers,'2005-01-01','2025-01-01', group_by='ticker', auto_adjust=False)"
   ]
  },
  {
   "cell_type": "code",
   "execution_count": 54,
   "id": "c9dc0d17",
   "metadata": {},
   "outputs": [
    {
     "data": {
      "text/plain": [
       "Date\n",
       "2005-01-03     16.125000\n",
       "2005-01-04     16.200001\n",
       "2005-01-05     16.200001\n",
       "2005-01-06     15.720000\n",
       "2005-01-07     14.865000\n",
       "                 ...    \n",
       "2024-12-24    342.839996\n",
       "2024-12-26    340.160004\n",
       "2024-12-27    339.704987\n",
       "2024-12-30    337.920013\n",
       "2024-12-31    337.329987\n",
       "Name: Adj Close, Length: 5033, dtype: float64"
      ]
     },
     "execution_count": 54,
     "metadata": {},
     "output_type": "execute_result"
    }
   ],
   "source": [
    "raw_data['ANSS']['Adj Close']"
   ]
  },
  {
   "cell_type": "code",
   "execution_count": 63,
   "id": "b43ce1c6",
   "metadata": {},
   "outputs": [],
   "source": [
    "adj_close_dict = {}\n",
    "\n",
    "for ticker in tickers :\n",
    "  adj_close_dict[ticker] = raw_data[ticker]['Adj Close']\n",
    "\n",
    "data = pd.DataFrame(adj_close_dict)"
   ]
  },
  {
   "cell_type": "code",
   "execution_count": 64,
   "id": "ec7557c2",
   "metadata": {},
   "outputs": [
    {
     "data": {
      "text/html": [
       "<div>\n",
       "<style scoped>\n",
       "    .dataframe tbody tr th:only-of-type {\n",
       "        vertical-align: middle;\n",
       "    }\n",
       "\n",
       "    .dataframe tbody tr th {\n",
       "        vertical-align: top;\n",
       "    }\n",
       "\n",
       "    .dataframe thead th {\n",
       "        text-align: right;\n",
       "    }\n",
       "</style>\n",
       "<table border=\"1\" class=\"dataframe\">\n",
       "  <thead>\n",
       "    <tr style=\"text-align: right;\">\n",
       "      <th></th>\n",
       "      <th>ADBE</th>\n",
       "      <th>AMD</th>\n",
       "      <th>ABNB</th>\n",
       "      <th>GOOGL</th>\n",
       "      <th>GOOG</th>\n",
       "      <th>AMZN</th>\n",
       "      <th>AEP</th>\n",
       "      <th>AMGN</th>\n",
       "      <th>ADI</th>\n",
       "      <th>ANSS</th>\n",
       "      <th>...</th>\n",
       "      <th>TMUS</th>\n",
       "      <th>TSLA</th>\n",
       "      <th>TXN</th>\n",
       "      <th>TTD</th>\n",
       "      <th>VRSK</th>\n",
       "      <th>VRTX</th>\n",
       "      <th>WBD</th>\n",
       "      <th>WDAY</th>\n",
       "      <th>XEL</th>\n",
       "      <th>ZS</th>\n",
       "    </tr>\n",
       "    <tr>\n",
       "      <th>Date</th>\n",
       "      <th></th>\n",
       "      <th></th>\n",
       "      <th></th>\n",
       "      <th></th>\n",
       "      <th></th>\n",
       "      <th></th>\n",
       "      <th></th>\n",
       "      <th></th>\n",
       "      <th></th>\n",
       "      <th></th>\n",
       "      <th></th>\n",
       "      <th></th>\n",
       "      <th></th>\n",
       "      <th></th>\n",
       "      <th></th>\n",
       "      <th></th>\n",
       "      <th></th>\n",
       "      <th></th>\n",
       "      <th></th>\n",
       "      <th></th>\n",
       "      <th></th>\n",
       "    </tr>\n",
       "  </thead>\n",
       "  <tbody>\n",
       "    <tr>\n",
       "      <th>2005-01-03</th>\n",
       "      <td>30.84</td>\n",
       "      <td>21.41</td>\n",
       "      <td>NaN</td>\n",
       "      <td>5.04</td>\n",
       "      <td>5.02</td>\n",
       "      <td>2.23</td>\n",
       "      <td>15.13</td>\n",
       "      <td>44.45</td>\n",
       "      <td>22.61</td>\n",
       "      <td>16.12</td>\n",
       "      <td>...</td>\n",
       "      <td>NaN</td>\n",
       "      <td>NaN</td>\n",
       "      <td>15.19</td>\n",
       "      <td>NaN</td>\n",
       "      <td>NaN</td>\n",
       "      <td>10.24</td>\n",
       "      <td>NaN</td>\n",
       "      <td>NaN</td>\n",
       "      <td>8.41</td>\n",
       "      <td>NaN</td>\n",
       "    </tr>\n",
       "    <tr>\n",
       "      <th>2005-01-04</th>\n",
       "      <td>30.02</td>\n",
       "      <td>20.21</td>\n",
       "      <td>NaN</td>\n",
       "      <td>4.84</td>\n",
       "      <td>4.82</td>\n",
       "      <td>2.11</td>\n",
       "      <td>15.07</td>\n",
       "      <td>43.74</td>\n",
       "      <td>22.00</td>\n",
       "      <td>16.20</td>\n",
       "      <td>...</td>\n",
       "      <td>NaN</td>\n",
       "      <td>NaN</td>\n",
       "      <td>14.82</td>\n",
       "      <td>NaN</td>\n",
       "      <td>NaN</td>\n",
       "      <td>10.09</td>\n",
       "      <td>NaN</td>\n",
       "      <td>NaN</td>\n",
       "      <td>8.29</td>\n",
       "      <td>NaN</td>\n",
       "    </tr>\n",
       "    <tr>\n",
       "      <th>2005-01-05</th>\n",
       "      <td>29.86</td>\n",
       "      <td>19.75</td>\n",
       "      <td>NaN</td>\n",
       "      <td>4.81</td>\n",
       "      <td>4.79</td>\n",
       "      <td>2.09</td>\n",
       "      <td>14.90</td>\n",
       "      <td>43.05</td>\n",
       "      <td>22.10</td>\n",
       "      <td>16.20</td>\n",
       "      <td>...</td>\n",
       "      <td>NaN</td>\n",
       "      <td>NaN</td>\n",
       "      <td>14.38</td>\n",
       "      <td>NaN</td>\n",
       "      <td>NaN</td>\n",
       "      <td>9.90</td>\n",
       "      <td>NaN</td>\n",
       "      <td>NaN</td>\n",
       "      <td>8.19</td>\n",
       "      <td>NaN</td>\n",
       "    </tr>\n",
       "    <tr>\n",
       "      <th>2005-01-06</th>\n",
       "      <td>29.36</td>\n",
       "      <td>19.72</td>\n",
       "      <td>NaN</td>\n",
       "      <td>4.69</td>\n",
       "      <td>4.67</td>\n",
       "      <td>2.05</td>\n",
       "      <td>14.90</td>\n",
       "      <td>43.45</td>\n",
       "      <td>22.06</td>\n",
       "      <td>15.72</td>\n",
       "      <td>...</td>\n",
       "      <td>NaN</td>\n",
       "      <td>NaN</td>\n",
       "      <td>14.32</td>\n",
       "      <td>NaN</td>\n",
       "      <td>NaN</td>\n",
       "      <td>10.52</td>\n",
       "      <td>NaN</td>\n",
       "      <td>NaN</td>\n",
       "      <td>8.18</td>\n",
       "      <td>NaN</td>\n",
       "    </tr>\n",
       "    <tr>\n",
       "      <th>2005-01-07</th>\n",
       "      <td>29.38</td>\n",
       "      <td>19.92</td>\n",
       "      <td>NaN</td>\n",
       "      <td>4.82</td>\n",
       "      <td>4.80</td>\n",
       "      <td>2.12</td>\n",
       "      <td>14.84</td>\n",
       "      <td>43.54</td>\n",
       "      <td>22.09</td>\n",
       "      <td>14.86</td>\n",
       "      <td>...</td>\n",
       "      <td>NaN</td>\n",
       "      <td>NaN</td>\n",
       "      <td>14.39</td>\n",
       "      <td>NaN</td>\n",
       "      <td>NaN</td>\n",
       "      <td>10.49</td>\n",
       "      <td>NaN</td>\n",
       "      <td>NaN</td>\n",
       "      <td>8.13</td>\n",
       "      <td>NaN</td>\n",
       "    </tr>\n",
       "  </tbody>\n",
       "</table>\n",
       "<p>5 rows × 101 columns</p>\n",
       "</div>"
      ],
      "text/plain": [
       "             ADBE    AMD  ABNB  GOOGL  GOOG  AMZN    AEP   AMGN    ADI   ANSS  \\\n",
       "Date                                                                            \n",
       "2005-01-03  30.84  21.41   NaN   5.04  5.02  2.23  15.13  44.45  22.61  16.12   \n",
       "2005-01-04  30.02  20.21   NaN   4.84  4.82  2.11  15.07  43.74  22.00  16.20   \n",
       "2005-01-05  29.86  19.75   NaN   4.81  4.79  2.09  14.90  43.05  22.10  16.20   \n",
       "2005-01-06  29.36  19.72   NaN   4.69  4.67  2.05  14.90  43.45  22.06  15.72   \n",
       "2005-01-07  29.38  19.92   NaN   4.82  4.80  2.12  14.84  43.54  22.09  14.86   \n",
       "\n",
       "            ...  TMUS  TSLA    TXN  TTD  VRSK   VRTX  WBD  WDAY   XEL  ZS  \n",
       "Date        ...                                                            \n",
       "2005-01-03  ...   NaN   NaN  15.19  NaN   NaN  10.24  NaN   NaN  8.41 NaN  \n",
       "2005-01-04  ...   NaN   NaN  14.82  NaN   NaN  10.09  NaN   NaN  8.29 NaN  \n",
       "2005-01-05  ...   NaN   NaN  14.38  NaN   NaN   9.90  NaN   NaN  8.19 NaN  \n",
       "2005-01-06  ...   NaN   NaN  14.32  NaN   NaN  10.52  NaN   NaN  8.18 NaN  \n",
       "2005-01-07  ...   NaN   NaN  14.39  NaN   NaN  10.49  NaN   NaN  8.13 NaN  \n",
       "\n",
       "[5 rows x 101 columns]"
      ]
     },
     "execution_count": 64,
     "metadata": {},
     "output_type": "execute_result"
    }
   ],
   "source": [
    "data= adj_close.round(2)\n",
    "data.head()"
   ]
  },
  {
   "cell_type": "code",
   "execution_count": 65,
   "id": "ef0a57d4",
   "metadata": {},
   "outputs": [],
   "source": [
    "data.to_pickle('cached_data/all_data.pkl')"
   ]
  },
  {
   "cell_type": "code",
   "execution_count": 4,
   "id": "0908ef6a",
   "metadata": {},
   "outputs": [],
   "source": [
    "data= pd.read_pickle('cached_data/all_data.pkl')"
   ]
  },
  {
   "cell_type": "code",
   "execution_count": 6,
   "id": "df6f3e89",
   "metadata": {},
   "outputs": [
    {
     "data": {
      "text/html": [
       "<div>\n",
       "<style scoped>\n",
       "    .dataframe tbody tr th:only-of-type {\n",
       "        vertical-align: middle;\n",
       "    }\n",
       "\n",
       "    .dataframe tbody tr th {\n",
       "        vertical-align: top;\n",
       "    }\n",
       "\n",
       "    .dataframe thead th {\n",
       "        text-align: right;\n",
       "    }\n",
       "</style>\n",
       "<table border=\"1\" class=\"dataframe\">\n",
       "  <thead>\n",
       "    <tr style=\"text-align: right;\">\n",
       "      <th></th>\n",
       "      <th>ADBE</th>\n",
       "      <th>AMD</th>\n",
       "      <th>ABNB</th>\n",
       "      <th>GOOGL</th>\n",
       "      <th>GOOG</th>\n",
       "      <th>AMZN</th>\n",
       "      <th>AEP</th>\n",
       "      <th>AMGN</th>\n",
       "      <th>ADI</th>\n",
       "      <th>ANSS</th>\n",
       "      <th>...</th>\n",
       "      <th>TMUS</th>\n",
       "      <th>TSLA</th>\n",
       "      <th>TXN</th>\n",
       "      <th>TTD</th>\n",
       "      <th>VRSK</th>\n",
       "      <th>VRTX</th>\n",
       "      <th>WBD</th>\n",
       "      <th>WDAY</th>\n",
       "      <th>XEL</th>\n",
       "      <th>ZS</th>\n",
       "    </tr>\n",
       "    <tr>\n",
       "      <th>Date</th>\n",
       "      <th></th>\n",
       "      <th></th>\n",
       "      <th></th>\n",
       "      <th></th>\n",
       "      <th></th>\n",
       "      <th></th>\n",
       "      <th></th>\n",
       "      <th></th>\n",
       "      <th></th>\n",
       "      <th></th>\n",
       "      <th></th>\n",
       "      <th></th>\n",
       "      <th></th>\n",
       "      <th></th>\n",
       "      <th></th>\n",
       "      <th></th>\n",
       "      <th></th>\n",
       "      <th></th>\n",
       "      <th></th>\n",
       "      <th></th>\n",
       "      <th></th>\n",
       "    </tr>\n",
       "  </thead>\n",
       "  <tbody>\n",
       "    <tr>\n",
       "      <th>2005-01-03</th>\n",
       "      <td>30.84</td>\n",
       "      <td>21.41</td>\n",
       "      <td>NaN</td>\n",
       "      <td>5.04</td>\n",
       "      <td>5.02</td>\n",
       "      <td>2.23</td>\n",
       "      <td>15.13</td>\n",
       "      <td>44.45</td>\n",
       "      <td>22.61</td>\n",
       "      <td>16.12</td>\n",
       "      <td>...</td>\n",
       "      <td>NaN</td>\n",
       "      <td>NaN</td>\n",
       "      <td>15.19</td>\n",
       "      <td>NaN</td>\n",
       "      <td>NaN</td>\n",
       "      <td>10.24</td>\n",
       "      <td>NaN</td>\n",
       "      <td>NaN</td>\n",
       "      <td>8.41</td>\n",
       "      <td>NaN</td>\n",
       "    </tr>\n",
       "    <tr>\n",
       "      <th>2005-01-04</th>\n",
       "      <td>30.02</td>\n",
       "      <td>20.21</td>\n",
       "      <td>NaN</td>\n",
       "      <td>4.84</td>\n",
       "      <td>4.82</td>\n",
       "      <td>2.11</td>\n",
       "      <td>15.07</td>\n",
       "      <td>43.74</td>\n",
       "      <td>22.00</td>\n",
       "      <td>16.20</td>\n",
       "      <td>...</td>\n",
       "      <td>NaN</td>\n",
       "      <td>NaN</td>\n",
       "      <td>14.82</td>\n",
       "      <td>NaN</td>\n",
       "      <td>NaN</td>\n",
       "      <td>10.09</td>\n",
       "      <td>NaN</td>\n",
       "      <td>NaN</td>\n",
       "      <td>8.29</td>\n",
       "      <td>NaN</td>\n",
       "    </tr>\n",
       "    <tr>\n",
       "      <th>2005-01-05</th>\n",
       "      <td>29.86</td>\n",
       "      <td>19.75</td>\n",
       "      <td>NaN</td>\n",
       "      <td>4.81</td>\n",
       "      <td>4.79</td>\n",
       "      <td>2.09</td>\n",
       "      <td>14.90</td>\n",
       "      <td>43.05</td>\n",
       "      <td>22.10</td>\n",
       "      <td>16.20</td>\n",
       "      <td>...</td>\n",
       "      <td>NaN</td>\n",
       "      <td>NaN</td>\n",
       "      <td>14.38</td>\n",
       "      <td>NaN</td>\n",
       "      <td>NaN</td>\n",
       "      <td>9.90</td>\n",
       "      <td>NaN</td>\n",
       "      <td>NaN</td>\n",
       "      <td>8.19</td>\n",
       "      <td>NaN</td>\n",
       "    </tr>\n",
       "    <tr>\n",
       "      <th>2005-01-06</th>\n",
       "      <td>29.36</td>\n",
       "      <td>19.72</td>\n",
       "      <td>NaN</td>\n",
       "      <td>4.69</td>\n",
       "      <td>4.67</td>\n",
       "      <td>2.05</td>\n",
       "      <td>14.90</td>\n",
       "      <td>43.45</td>\n",
       "      <td>22.06</td>\n",
       "      <td>15.72</td>\n",
       "      <td>...</td>\n",
       "      <td>NaN</td>\n",
       "      <td>NaN</td>\n",
       "      <td>14.32</td>\n",
       "      <td>NaN</td>\n",
       "      <td>NaN</td>\n",
       "      <td>10.52</td>\n",
       "      <td>NaN</td>\n",
       "      <td>NaN</td>\n",
       "      <td>8.18</td>\n",
       "      <td>NaN</td>\n",
       "    </tr>\n",
       "    <tr>\n",
       "      <th>2005-01-07</th>\n",
       "      <td>29.38</td>\n",
       "      <td>19.92</td>\n",
       "      <td>NaN</td>\n",
       "      <td>4.82</td>\n",
       "      <td>4.80</td>\n",
       "      <td>2.12</td>\n",
       "      <td>14.84</td>\n",
       "      <td>43.54</td>\n",
       "      <td>22.09</td>\n",
       "      <td>14.86</td>\n",
       "      <td>...</td>\n",
       "      <td>NaN</td>\n",
       "      <td>NaN</td>\n",
       "      <td>14.39</td>\n",
       "      <td>NaN</td>\n",
       "      <td>NaN</td>\n",
       "      <td>10.49</td>\n",
       "      <td>NaN</td>\n",
       "      <td>NaN</td>\n",
       "      <td>8.13</td>\n",
       "      <td>NaN</td>\n",
       "    </tr>\n",
       "  </tbody>\n",
       "</table>\n",
       "<p>5 rows × 101 columns</p>\n",
       "</div>"
      ],
      "text/plain": [
       "             ADBE    AMD  ABNB  GOOGL  GOOG  AMZN    AEP   AMGN    ADI   ANSS  \\\n",
       "Date                                                                            \n",
       "2005-01-03  30.84  21.41   NaN   5.04  5.02  2.23  15.13  44.45  22.61  16.12   \n",
       "2005-01-04  30.02  20.21   NaN   4.84  4.82  2.11  15.07  43.74  22.00  16.20   \n",
       "2005-01-05  29.86  19.75   NaN   4.81  4.79  2.09  14.90  43.05  22.10  16.20   \n",
       "2005-01-06  29.36  19.72   NaN   4.69  4.67  2.05  14.90  43.45  22.06  15.72   \n",
       "2005-01-07  29.38  19.92   NaN   4.82  4.80  2.12  14.84  43.54  22.09  14.86   \n",
       "\n",
       "            ...  TMUS  TSLA    TXN  TTD  VRSK   VRTX  WBD  WDAY   XEL  ZS  \n",
       "Date        ...                                                            \n",
       "2005-01-03  ...   NaN   NaN  15.19  NaN   NaN  10.24  NaN   NaN  8.41 NaN  \n",
       "2005-01-04  ...   NaN   NaN  14.82  NaN   NaN  10.09  NaN   NaN  8.29 NaN  \n",
       "2005-01-05  ...   NaN   NaN  14.38  NaN   NaN   9.90  NaN   NaN  8.19 NaN  \n",
       "2005-01-06  ...   NaN   NaN  14.32  NaN   NaN  10.52  NaN   NaN  8.18 NaN  \n",
       "2005-01-07  ...   NaN   NaN  14.39  NaN   NaN  10.49  NaN   NaN  8.13 NaN  \n",
       "\n",
       "[5 rows x 101 columns]"
      ]
     },
     "execution_count": 6,
     "metadata": {},
     "output_type": "execute_result"
    }
   ],
   "source": [
    "data.head()"
   ]
  },
  {
   "cell_type": "code",
   "execution_count": 7,
   "id": "86a892ae",
   "metadata": {},
   "outputs": [],
   "source": [
    "# calculate 6 months from the start\n",
    "# calculate the diff\n",
    "# check if it has enough data\n"
   ]
  },
  {
   "cell_type": "markdown",
   "id": "ac611930",
   "metadata": {},
   "source": [
    "## Checking the price diff for just one stock"
   ]
  },
  {
   "cell_type": "code",
   "execution_count": null,
   "id": "84315bf0",
   "metadata": {},
   "outputs": [],
   "source": [
    "single_days = data['AAPL']\n",
    "single_monthly = single_days.resample('M').last()"
   ]
  },
  {
   "cell_type": "markdown",
   "id": "1856ea46",
   "metadata": {},
   "source": [
    "Setting the start and end price based on lookback and skip period"
   ]
  },
  {
   "cell_type": "code",
   "execution_count": null,
   "id": "0aa232d2",
   "metadata": {},
   "outputs": [
    {
     "name": "stdout",
     "output_type": "stream",
     "text": [
      "end: 2024-10-31 00:00:00\n",
      "start: 2024-05-31 00:00:00\n"
     ]
    }
   ],
   "source": [
    "lookback=6\n",
    "skip_months = 1\n",
    "today = pd.to_datetime(\"2024-12-07\")\n",
    "\n",
    "end = (today-pd.DateOffset(months=skip_months+1))+ pd.offsets.MonthEnd(0)\n",
    "start = (today-pd.DateOffset(months=lookback+1))+pd.offsets.MonthEnd(0)\n",
    "\n",
    "\n",
    "print(f'end: {end}')    \n",
    "print(f'start: {start}')"
   ]
  },
  {
   "cell_type": "markdown",
   "id": "6ae9bcdc",
   "metadata": {},
   "source": [
    "Finding the price and backward fill if the price is not found"
   ]
  },
  {
   "cell_type": "code",
   "execution_count": 68,
   "id": "74a7825b",
   "metadata": {},
   "outputs": [
    {
     "name": "stdout",
     "output_type": "stream",
     "text": [
      "Found start_price: 191.36\n",
      "Found end_price: 225.12\n",
      "Diff: 33.76\n"
     ]
    }
   ],
   "source": [
    "try:\n",
    "    start_price = single_days.loc[start]\n",
    "    print(\"Found start_price:\", start_price)\n",
    "except:\n",
    "    start_price = single_days[single_days.index <= start].max()\n",
    "    print(\"Fallback start_price:\", start_price)\n",
    "\n",
    "try:\n",
    "    end_price = single_days.loc[end]\n",
    "    print(\"Found end_price:\", end_price)\n",
    "except:\n",
    "    end_price = single_days[single_days.index <= end].max()\n",
    "    print(\"Fallback end_price:\", end_price)\n",
    "\n",
    "\n",
    "diff = (end_price- start_price).round(2)\n",
    "print(f'Diff: {diff}')\n"
   ]
  },
  {
   "cell_type": "markdown",
   "id": "483049aa",
   "metadata": {},
   "source": [
    "## Check the diff for multiple stocks"
   ]
  },
  {
   "cell_type": "code",
   "execution_count": 5,
   "id": "8493fa22",
   "metadata": {},
   "outputs": [
    {
     "name": "stderr",
     "output_type": "stream",
     "text": [
      "/var/folders/cf/l478l_0d3t579xssqhkwdgzh0000gn/T/ipykernel_4081/994351285.py:2: FutureWarning: 'M' is deprecated and will be removed in a future version, please use 'ME' instead.\n",
      "  monthly = data.resample('M').last()\n"
     ]
    }
   ],
   "source": [
    "single = data\n",
    "monthly = data.resample('M').last()"
   ]
  },
  {
   "cell_type": "code",
   "execution_count": 6,
   "id": "07bb7566",
   "metadata": {},
   "outputs": [
    {
     "name": "stdout",
     "output_type": "stream",
     "text": [
      "end date: 2024-10-31 00:00:00\n",
      "start date: 2024-05-31 00:00:00\n"
     ]
    }
   ],
   "source": [
    "lookback=6\n",
    "skip_months = 1\n",
    "today = pd.to_datetime(\"2024-12-07\")\n",
    "\n",
    "end_date = (today-pd.DateOffset(months=skip_months+1))+ pd.offsets.MonthEnd(0)\n",
    "start_date = (today-pd.DateOffset(months=lookback+1))+pd.offsets.MonthEnd(0)\n",
    "\n",
    "\n",
    "print(f'end date: {end_date}')    \n",
    "print(f'start date: {start_date}')"
   ]
  },
  {
   "cell_type": "code",
   "execution_count": 7,
   "id": "60094ee5",
   "metadata": {},
   "outputs": [
    {
     "name": "stdout",
     "output_type": "stream",
     "text": [
      "-------\n"
     ]
    }
   ],
   "source": [
    "try:\n",
    "    start_price = single.loc[start_date]\n",
    "    #print(\"Found start_price:\\n\", start_price)\n",
    "except:\n",
    "    start_price = single[single.index <= start].max()\n",
    "    #print(\"Fallback start_price:\\n\", start_price)\n",
    "\n",
    "try:\n",
    "    end_price = single.loc[end_date]\n",
    "    #print(\"Found end_price:\\n\", end_price)\n",
    "except:\n",
    "    end_price = single[single.index <= end].max()\n",
    "    #print(\"Fallback end_price:\\n\", end_price)\n",
    "\n",
    "\n",
    "diff = ((end_price- start_price).nlargest(5)).round(2)\n",
    "print('-------')\n",
    "\n"
   ]
  },
  {
   "cell_type": "code",
   "execution_count": 8,
   "id": "6669b6e6",
   "metadata": {},
   "outputs": [
    {
     "name": "stdout",
     "output_type": "stream",
     "text": [
      "      Start Price  End Price    Diff\n",
      "BKNG      3738.61    4650.94  912.33\n",
      "MELI      1725.58    2037.18  311.60\n",
      "NFLX       641.62     756.03  114.41\n",
      "ISRG       402.12     503.84  101.72\n",
      "META       464.78     566.18  101.40\n"
     ]
    }
   ],
   "source": [
    "\n",
    "comparison = pd.concat([start_price.loc[diff.index], end_price.loc[diff.index], diff], axis=1)\n",
    "comparison.columns= ['Start Price','End Price','Diff']\n",
    "\n",
    "print(comparison)"
   ]
  },
  {
   "cell_type": "code",
   "execution_count": null,
   "id": "3d164b84",
   "metadata": {},
   "outputs": [
    {
     "name": "stdout",
     "output_type": "stream",
     "text": [
      "Index(['BKNG', 'MELI', 'NFLX', 'ISRG', 'META'], dtype='object')\n"
     ]
    }
   ],
   "source": [
    "print(diff.index)"
   ]
  },
  {
   "cell_type": "code",
   "execution_count": 187,
   "id": "863d4a56",
   "metadata": {},
   "outputs": [],
   "source": [
    "df=single\n",
    "anchor_today = pd.to_datetime('2024-12-07')\n",
    "times = 3\n",
    "lookback=6\n",
    "skip_months = 1\n",
    "top_k =2 \n",
    "\n",
    "\n",
    "def cal_start_end(anchor,step):\n",
    "  end_date = (anchor-pd.DateOffset(months=skip_months+1+step))+ pd.offsets.MonthEnd(0)\n",
    "  start_date = (anchor-pd.DateOffset(months=lookback+1+skip_months+step))+pd.offsets.MonthEnd(0)\n",
    "\n",
    "  return start_date, end_date\n",
    "\n",
    "# the prev available date\n",
    "def on_or_before(date, col=None):\n",
    "  \n",
    "  if date in df.index:\n",
    "    val = df.loc[date, col] if col is not None else df.loc[date]\n",
    "    prev_date =date\n",
    "\n",
    "  else:  \n",
    "    pos = df.index.searchsorted(date, side='left')-1\n",
    "    if pos<0:\n",
    "      raise ValueError(\"No available date on/before the given date\")\n",
    "    prev_date = df.index[pos]\n",
    "    val= df.loc[prev_date, col] if col is not None else df.loc[prev_date]\n",
    "\n",
    "  return val, prev_date\n",
    "\n",
    "# the next available date\n",
    "def on_or_after(date , col=None):\n",
    "  \n",
    "  pos= df.index.searchsorted(date, side='left')\n",
    "  if pos<0:\n",
    "      raise ValueError(\"No available date on/before the given date\")\n",
    "  next_date = df.index[pos]\n",
    "\n",
    "  val= df.loc[next_date,col] if col is not None else df.loc[next_date]\n",
    "\n",
    "  return val, next_date\n"
   ]
  },
  {
   "cell_type": "code",
   "execution_count": 188,
   "id": "73c627e6",
   "metadata": {},
   "outputs": [],
   "source": [
    "capital=100\n",
    "records = [] \n",
    "\n",
    "for step in range(times):\n",
    "\n",
    "  start_date, end_date = cal_start_end(anchor_today,step)\n",
    "  start_price, start_date = on_or_before(start_date)\n",
    "  end_price, end_date = on_or_before(end_date)\n",
    "  diffs = (end_price-start_price).round(2)\n",
    "  leaders = diffs.nlargest(top_k)\n",
    "  \n",
    "  invest_ref = anchor_today-pd.DateOffset(months=step)\n",
    "  invest_date = invest_ref.replace(day=1)\n",
    "  sell_date = invest_date + pd.offsets.MonthEnd(0)\n",
    "\n",
    "\n",
    "  k= len(diff)\n",
    "  w_each = 1/k\n",
    "  portfolio_return=0 \n",
    "  capital_before = capital\n",
    "\n",
    "  for ticker in leaders.index:\n",
    "    invest_price, invest_date = on_or_after(invest_date,ticker)\n",
    "    sell_price, sell_date = on_or_before(sell_date,ticker)\n",
    "    r = (sell_price-invest_price)/invest_price  \n",
    "    portfolio_return += w_each*r\n",
    "\n",
    "    records.append({\n",
    "      \"step\":step, \n",
    "      \"invest_date\": invest_date,\n",
    "      \"sell_date\": sell_date,\n",
    "      \"window_start\": start_date ,\n",
    "      \"window_end\" : end_date,\n",
    "      \"ticker\" : ticker,\n",
    "      \"start price\": start_price[ticker],\n",
    "      \"end_price\": end_price[ticker],\n",
    "      \"invest_price\": invest_price,\n",
    "      \"sell_price\":sell_price,\n",
    "      \"return\":r \n",
    "    })\n",
    "\n",
    "  capital *= (1+portfolio_return)\n",
    "\n",
    "  records.append({\n",
    "      \"step\":step, \n",
    "      \"invest_date\": invest_date,\n",
    "      \"sell_date\": sell_date,\n",
    "      \"window_start\": start_date ,\n",
    "      \"window_end\" : end_date,\n",
    "      \"ticker\" : \"SUMMARY\",\n",
    "      \"start price\": None,\n",
    "      \"end_price\": None,\n",
    "      \"invest_price\": None,\n",
    "      \"sell_price\": None, \n",
    "      \"return\": portfolio_return ,\n",
    "      \"capital_before\":capital_before,\n",
    "      \"capital_after\": capital\n",
    "    })\n",
    "\n",
    "\n",
    "  comparison = pd.concat([start_price.loc[diff.index], end_price.loc[diff.index], diff], axis=1)\n",
    "  comparison.columns= ['Start Price','End Price','Diff']\n",
    "\n",
    "  #print(f'------- {start_date.date()} : {end_date.date()} ------- {current_month_name}')\n",
    "  #print(comparison)\n",
    "\n",
    "  \n",
    "  "
   ]
  },
  {
   "cell_type": "code",
   "execution_count": 189,
   "id": "3fd2ebfb",
   "metadata": {},
   "outputs": [
    {
     "name": "stdout",
     "output_type": "stream",
     "text": [
      "   step invest_date  sell_date window_start window_end   ticker  start price  \\\n",
      "0     0  2024-12-02 2024-12-31   2024-04-30 2024-10-31     BKNG      3417.54   \n",
      "1     0  2024-12-02 2024-12-31   2024-04-30 2024-10-31     MELI      1458.70   \n",
      "2     0  2024-12-02 2024-12-31   2024-04-30 2024-10-31  SUMMARY          NaN   \n",
      "3     1  2024-11-01 2024-11-29   2024-03-28 2024-09-30     BKNG      3591.63   \n",
      "4     1  2024-11-01 2024-11-29   2024-03-28 2024-09-30     MELI      1511.96   \n",
      "5     1  2024-11-01 2024-11-29   2024-03-28 2024-09-30  SUMMARY          NaN   \n",
      "6     2  2024-10-01 2024-10-31   2024-02-29 2024-08-30     MELI      1595.30   \n",
      "7     2  2024-10-01 2024-10-31   2024-02-29 2024-08-30     BKNG      3425.40   \n",
      "8     2  2024-10-01 2024-10-31   2024-02-29 2024-08-30  SUMMARY          NaN   \n",
      "\n",
      "   end_price  invest_price  sell_price    return  capital_before  \\\n",
      "0    4650.94       5196.00     4949.72 -0.047398             NaN   \n",
      "1    2037.18       1952.44     1700.44 -0.129069             NaN   \n",
      "2        NaN           NaN         NaN -0.088234      100.000000   \n",
      "3    4189.32       4723.40     5173.82  0.095359             NaN   \n",
      "4    2051.96       2054.90     1985.17 -0.033934             NaN   \n",
      "5        NaN           NaN         NaN  0.030713       91.176637   \n",
      "6    2061.66       2066.12     2037.18 -0.014007             NaN   \n",
      "7    3879.08       4078.79     4650.94  0.140274             NaN   \n",
      "8        NaN           NaN         NaN  0.063134       93.976933   \n",
      "\n",
      "   capital_after  \n",
      "0            NaN  \n",
      "1            NaN  \n",
      "2      91.176637  \n",
      "3            NaN  \n",
      "4            NaN  \n",
      "5      93.976933  \n",
      "6            NaN  \n",
      "7            NaN  \n",
      "8      99.910050  \n"
     ]
    }
   ],
   "source": [
    "trades = pd.DataFrame.from_records(records)\n",
    "print(trades)"
   ]
  },
  {
   "cell_type": "markdown",
   "id": "6a670a4f",
   "metadata": {},
   "source": [
    "### Data Verification"
   ]
  },
  {
   "cell_type": "code",
   "execution_count": 191,
   "id": "f5e45ea7",
   "metadata": {},
   "outputs": [
    {
     "name": "stdout",
     "output_type": "stream",
     "text": [
      "5196.0\n",
      "4949.72\n",
      "5196.0\n"
     ]
    }
   ],
   "source": [
    "print(df.loc[pd.to_datetime('2024-12-02'),'BKNG'])\n",
    "print(df.loc[pd.to_datetime('2024-12-31'),'BKNG'])\n",
    "print(df.loc[pd.to_datetime('2024-12-02'),'BKNG'])"
   ]
  }
 ],
 "metadata": {
  "kernelspec": {
   "display_name": "base",
   "language": "python",
   "name": "python3"
  },
  "language_info": {
   "codemirror_mode": {
    "name": "ipython",
    "version": 3
   },
   "file_extension": ".py",
   "mimetype": "text/x-python",
   "name": "python",
   "nbconvert_exporter": "python",
   "pygments_lexer": "ipython3",
   "version": "3.12.4"
  }
 },
 "nbformat": 4,
 "nbformat_minor": 5
}
